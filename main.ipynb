{
 "cells": [
  {
   "cell_type": "markdown",
   "id": "f6375b88",
   "metadata": {},
   "source": [
    "Exploring Data\n",
    "-----------------\n",
    "\n",
    "In this directory, there is a file called `employees.csv`.  Let's use pandas to load it into a dataframe:"
   ]
  },
  {
   "cell_type": "code",
   "execution_count": 2,
   "id": "7bb49822",
   "metadata": {},
   "outputs": [
    {
     "data": {
      "text/html": [
       "<div>\n",
       "<style scoped>\n",
       "    .dataframe tbody tr th:only-of-type {\n",
       "        vertical-align: middle;\n",
       "    }\n",
       "\n",
       "    .dataframe tbody tr th {\n",
       "        vertical-align: top;\n",
       "    }\n",
       "\n",
       "    .dataframe thead th {\n",
       "        text-align: right;\n",
       "    }\n",
       "</style>\n",
       "<table border=\"1\" class=\"dataframe\">\n",
       "  <thead>\n",
       "    <tr style=\"text-align: right;\">\n",
       "      <th></th>\n",
       "      <th>gender</th>\n",
       "      <th>height</th>\n",
       "      <th>waist</th>\n",
       "      <th>salary</th>\n",
       "      <th>dob</th>\n",
       "      <th>death</th>\n",
       "    </tr>\n",
       "    <tr>\n",
       "      <th>employee_id</th>\n",
       "      <th></th>\n",
       "      <th></th>\n",
       "      <th></th>\n",
       "      <th></th>\n",
       "      <th></th>\n",
       "      <th></th>\n",
       "    </tr>\n",
       "  </thead>\n",
       "  <tbody>\n",
       "    <tr>\n",
       "      <th>4782566</th>\n",
       "      <td>m</td>\n",
       "      <td>1.82</td>\n",
       "      <td>1.11</td>\n",
       "      <td>74917.0</td>\n",
       "      <td>1961-11-18</td>\n",
       "      <td>1986-10-21</td>\n",
       "    </tr>\n",
       "    <tr>\n",
       "      <th>1427930</th>\n",
       "      <td>m</td>\n",
       "      <td>1.73</td>\n",
       "      <td>1.11</td>\n",
       "      <td>63012.0</td>\n",
       "      <td>1946-03-18</td>\n",
       "      <td>1972-09-13</td>\n",
       "    </tr>\n",
       "    <tr>\n",
       "      <th>8880433</th>\n",
       "      <td>f</td>\n",
       "      <td>1.68</td>\n",
       "      <td>0.93</td>\n",
       "      <td>86437.0</td>\n",
       "      <td>1978-08-14</td>\n",
       "      <td>2012-08-09</td>\n",
       "    </tr>\n",
       "    <tr>\n",
       "      <th>3129668</th>\n",
       "      <td>m</td>\n",
       "      <td>1.91</td>\n",
       "      <td>1.60</td>\n",
       "      <td>65603.0</td>\n",
       "      <td>1949-05-07</td>\n",
       "      <td>1975-02-15</td>\n",
       "    </tr>\n",
       "    <tr>\n",
       "      <th>7607672</th>\n",
       "      <td>m</td>\n",
       "      <td>1.86</td>\n",
       "      <td>1.17</td>\n",
       "      <td>60018.0</td>\n",
       "      <td>1981-07-09</td>\n",
       "      <td>2007-01-25</td>\n",
       "    </tr>\n",
       "  </tbody>\n",
       "</table>\n",
       "</div>"
      ],
      "text/plain": [
       "            gender  height  waist   salary         dob       death\n",
       "employee_id                                                       \n",
       "4782566          m    1.82   1.11  74917.0  1961-11-18  1986-10-21\n",
       "1427930          m    1.73   1.11  63012.0  1946-03-18  1972-09-13\n",
       "8880433          f    1.68   0.93  86437.0  1978-08-14  2012-08-09\n",
       "3129668          m    1.91   1.60  65603.0  1949-05-07  1975-02-15\n",
       "7607672          m    1.86   1.17  60018.0  1981-07-09  2007-01-25"
      ]
     },
     "execution_count": 2,
     "metadata": {},
     "output_type": "execute_result"
    }
   ],
   "source": [
    "import pandas as pd\n",
    "from datetime import date\n",
    "\n",
    "# Read in the data\n",
    "df = pd.read_csv('employees.csv', index_col='employee_id')\n",
    "\n",
    "# Show a few rows\n",
    "df.head()"
   ]
  },
  {
   "cell_type": "markdown",
   "id": "fb6aaef5",
   "metadata": {},
   "source": [
    "Get statistics for a series\n",
    "---"
   ]
  },
  {
   "cell_type": "code",
   "execution_count": 3,
   "id": "03073c50",
   "metadata": {},
   "outputs": [
    {
     "name": "stdout",
     "output_type": "stream",
     "text": [
      "The mean of the waist series is 1.21 meters.\n"
     ]
    }
   ],
   "source": [
    "mean_waist = df['waist'].mean()\n",
    "print(f\"The mean of the waist series is {mean_waist:.2f} meters.\")"
   ]
  },
  {
   "cell_type": "markdown",
   "id": "05038155",
   "metadata": {},
   "source": [
    "The describe method gathers several statistics at once"
   ]
  },
  {
   "cell_type": "code",
   "execution_count": 4,
   "id": "f7ce7057",
   "metadata": {},
   "outputs": [
    {
     "data": {
      "text/plain": [
       "count      9930.000000\n",
       "mean      63033.975227\n",
       "std       20093.827794\n",
       "min         297.000000\n",
       "25%       49483.500000\n",
       "50%       63078.500000\n",
       "75%       76800.750000\n",
       "max      140902.000000\n",
       "Name: salary, dtype: float64"
      ]
     },
     "execution_count": 4,
     "metadata": {},
     "output_type": "execute_result"
    }
   ],
   "source": [
    "df.salary.describe()"
   ]
  },
  {
   "cell_type": "markdown",
   "id": "f3c1eeb7",
   "metadata": {},
   "source": [
    "Edit series (no loops)\n",
    "---"
   ]
  },
  {
   "cell_type": "code",
   "execution_count": 5,
   "id": "e4b225bc",
   "metadata": {
    "scrolled": true
   },
   "outputs": [
    {
     "data": {
      "text/html": [
       "<div>\n",
       "<style scoped>\n",
       "    .dataframe tbody tr th:only-of-type {\n",
       "        vertical-align: middle;\n",
       "    }\n",
       "\n",
       "    .dataframe tbody tr th {\n",
       "        vertical-align: top;\n",
       "    }\n",
       "\n",
       "    .dataframe thead th {\n",
       "        text-align: right;\n",
       "    }\n",
       "</style>\n",
       "<table border=\"1\" class=\"dataframe\">\n",
       "  <thead>\n",
       "    <tr style=\"text-align: right;\">\n",
       "      <th></th>\n",
       "      <th>gender</th>\n",
       "      <th>height</th>\n",
       "      <th>waist</th>\n",
       "      <th>salary</th>\n",
       "      <th>dob</th>\n",
       "      <th>death</th>\n",
       "      <th>final_age</th>\n",
       "    </tr>\n",
       "    <tr>\n",
       "      <th>employee_id</th>\n",
       "      <th></th>\n",
       "      <th></th>\n",
       "      <th></th>\n",
       "      <th></th>\n",
       "      <th></th>\n",
       "      <th></th>\n",
       "      <th></th>\n",
       "    </tr>\n",
       "  </thead>\n",
       "  <tbody>\n",
       "    <tr>\n",
       "      <th>4782566</th>\n",
       "      <td>m</td>\n",
       "      <td>1.82</td>\n",
       "      <td>1.11</td>\n",
       "      <td>74917.0</td>\n",
       "      <td>1961-11-18</td>\n",
       "      <td>1986-10-21</td>\n",
       "      <td>9103 days, 0:00:00</td>\n",
       "    </tr>\n",
       "    <tr>\n",
       "      <th>1427930</th>\n",
       "      <td>m</td>\n",
       "      <td>1.73</td>\n",
       "      <td>1.11</td>\n",
       "      <td>63012.0</td>\n",
       "      <td>1946-03-18</td>\n",
       "      <td>1972-09-13</td>\n",
       "      <td>9676 days, 0:00:00</td>\n",
       "    </tr>\n",
       "    <tr>\n",
       "      <th>8880433</th>\n",
       "      <td>f</td>\n",
       "      <td>1.68</td>\n",
       "      <td>0.93</td>\n",
       "      <td>86437.0</td>\n",
       "      <td>1978-08-14</td>\n",
       "      <td>2012-08-09</td>\n",
       "      <td>12414 days, 0:00:00</td>\n",
       "    </tr>\n",
       "    <tr>\n",
       "      <th>3129668</th>\n",
       "      <td>m</td>\n",
       "      <td>1.91</td>\n",
       "      <td>1.60</td>\n",
       "      <td>65603.0</td>\n",
       "      <td>1949-05-07</td>\n",
       "      <td>1975-02-15</td>\n",
       "      <td>9415 days, 0:00:00</td>\n",
       "    </tr>\n",
       "    <tr>\n",
       "      <th>7607672</th>\n",
       "      <td>m</td>\n",
       "      <td>1.86</td>\n",
       "      <td>1.17</td>\n",
       "      <td>60018.0</td>\n",
       "      <td>1981-07-09</td>\n",
       "      <td>2007-01-25</td>\n",
       "      <td>9331 days, 0:00:00</td>\n",
       "    </tr>\n",
       "  </tbody>\n",
       "</table>\n",
       "</div>"
      ],
      "text/plain": [
       "            gender  height  waist   salary         dob       death  \\\n",
       "employee_id                                                          \n",
       "4782566          m    1.82   1.11  74917.0  1961-11-18  1986-10-21   \n",
       "1427930          m    1.73   1.11  63012.0  1946-03-18  1972-09-13   \n",
       "8880433          f    1.68   0.93  86437.0  1978-08-14  2012-08-09   \n",
       "3129668          m    1.91   1.60  65603.0  1949-05-07  1975-02-15   \n",
       "7607672          m    1.86   1.17  60018.0  1981-07-09  2007-01-25   \n",
       "\n",
       "                       final_age  \n",
       "employee_id                       \n",
       "4782566       9103 days, 0:00:00  \n",
       "1427930       9676 days, 0:00:00  \n",
       "8880433      12414 days, 0:00:00  \n",
       "3129668       9415 days, 0:00:00  \n",
       "7607672       9331 days, 0:00:00  "
      ]
     },
     "execution_count": 5,
     "metadata": {},
     "output_type": "execute_result"
    }
   ],
   "source": [
    "# Convert strings to dates for dob and death\n",
    "df['dob'] = df['dob'].apply(lambda x: date.fromisoformat(x))\n",
    "df['death'] = df['death'].apply(lambda x: date.fromisoformat(x))\n",
    "\n",
    "# Make a new column\n",
    "df['final_age'] = df['death'] - df['dob']\n",
    "\n",
    "# Show a few rows\n",
    "df.head()"
   ]
  },
  {
   "cell_type": "markdown",
   "id": "e59daee1",
   "metadata": {},
   "source": [
    "Get info on categorical series\n",
    "----"
   ]
  },
  {
   "cell_type": "code",
   "execution_count": 6,
   "id": "258b57db",
   "metadata": {},
   "outputs": [
    {
     "name": "stdout",
     "output_type": "stream",
     "text": [
      "\n",
      "*** Gender ***\n",
      "82 rows have no value for gender.\n",
      "4917 employees are \"m\"\n",
      "4907 employees are \"f\"\n",
      "36 employees are \"F\"\n",
      "23 employees are \"M\"\n",
      "19 employees are \"male\"\n",
      "16 employees are \"female\"\n"
     ]
    }
   ],
   "source": [
    "print(\"\\n*** Gender ***\")\n",
    "series = df[\"gender\"]\n",
    "missing = series.isnull()\n",
    "print(f\"{missing.sum()} rows have no value for gender.\")\n",
    "series_counts = series.value_counts()\n",
    "for value in series_counts.index:\n",
    "    print(f\"{series_counts.loc[value]} employees are \\\"{value}\\\"\")                  "
   ]
  },
  {
   "cell_type": "code",
   "execution_count": null,
   "id": "7b897dff",
   "metadata": {},
   "outputs": [],
   "source": []
  }
 ],
 "metadata": {
  "kernelspec": {
   "display_name": "Python 3.11.3 ('hw1-venv': venv)",
   "language": "python",
   "name": "python3"
  },
  "language_info": {
   "codemirror_mode": {
    "name": "ipython",
    "version": 3
   },
   "file_extension": ".py",
   "mimetype": "text/x-python",
   "name": "python",
   "nbconvert_exporter": "python",
   "pygments_lexer": "ipython3",
   "version": "3.11.3"
  },
  "vscode": {
   "interpreter": {
    "hash": "ee776c58149bbd39be3a0eba14f0a1f869a40a757997a04e5dd1c8249adcc00a"
   }
  }
 },
 "nbformat": 4,
 "nbformat_minor": 5
}
